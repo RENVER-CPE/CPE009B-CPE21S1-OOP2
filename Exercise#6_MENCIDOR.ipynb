{
  "cells": [
    {
      "cell_type": "markdown",
      "metadata": {
        "id": "view-in-github",
        "colab_type": "text"
      },
      "source": [
        "<a href=\"https://colab.research.google.com/github/RENVER-CPE/CPE009B-CPE21S1-OOP2/blob/main/Exercise%236_MENCIDOR.ipynb\" target=\"_parent\"><img src=\"https://colab.research.google.com/assets/colab-badge.svg\" alt=\"Open In Colab\"/></a>"
      ]
    },
    {
      "cell_type": "code",
      "source": [
        "from tkinter import *\n",
        "\n",
        "class MyWindow:\n",
        "    def __init__(self, win):\n",
        "        #common widgets\n",
        "        win.configure(bg=\"LAVENDER\")\n",
        "        self.Label1 = Label(win, fg = \"BLACK\", text = \"CALCULATOR\", font=(\"TIMES NEW ROMAN\", 20, \"bold\"), bg=\"LIGHTGRAY\")\n",
        "        self.Label1.place(x = 105, y = 20)\n",
        "        self.Label2 = Label(win, text = \"Number 1:\")\n",
        "        self.Label2.place(x = 50, y = 80)\n",
        "        self.Entry1 = Entry(win, bd = 2)\n",
        "        self.Entry1.place(x = 150, y = 80)\n",
        "        self.Label3 = Label(win, text = \"Number 2:\")\n",
        "        self.Label3.place(x = 50, y = 120)\n",
        "        self.Entry2 = Entry(win, bd = 2)\n",
        "        self.Entry2.place(x = 150, y = 120)\n",
        "        self.Label4 = Label(win, text = \"Result:\")\n",
        "        self.Label4.place(x = 50, y = 160)\n",
        "        self.Entry3 = Entry(win, bd = 2)\n",
        "        self.Entry3.place(x = 150, y = 160)\n",
        "\n",
        "        self.Button1 = Button(win, fg = \"Blue\", text = \"Add\")\n",
        "        self.Button1.place(x = 50, y = 200)\n",
        "        self.Button2 = Button(win, fg = \"Red\", text = \"Subtract\")\n",
        "        self.Button2.place(x = 100, y= 200)\n",
        "        self.Button3 = Button(win, fg = \"Green\", text = \"Multiply\")\n",
        "        self.Button3.place(x = 170, y = 200)\n",
        "        self.Button4 = Button(win, fg = \"Orange\", text = \"Divide\")\n",
        "        self.Button4.place(x = 245, y= 200)\n",
        "        self.Button1.bind('<Button-1>', self.add)\n",
        "        self.Button2.bind('<Button-1>', self.sub)\n",
        "        self.Button3.bind('<Button-1>', self.multiply)\n",
        "        self.Button4.bind('<Button-1>', self.divide)\n",
        "\n",
        "    def add(self, win):\n",
        "        self.Entry3.delete(0, 'end')\n",
        "        num1 = int(self.Entry1.get())\n",
        "        num2 = int(self.Entry2.get())\n",
        "        result = num1 + num2\n",
        "        self.Entry3.insert(END, str(result))\n",
        "\n",
        "    def sub(self, win):\n",
        "        self.Entry3.delete(0, 'end')\n",
        "        num1 = int(self.Entry1.get())\n",
        "        num2 = int(self.Entry2.get())\n",
        "        result = num1 - num2\n",
        "        self.Entry3.insert(END, str(result))\n",
        "\n",
        "    def multiply(self, win):\n",
        "        self.Entry3.delete(0, 'end')\n",
        "        num1 = int(self.Entry1.get())\n",
        "        num2 = int(self.Entry2.get())\n",
        "        result = num1 * num2\n",
        "        self.Entry3.insert(END, str(result))\n",
        "\n",
        "    def divide(self, win):\n",
        "        try:\n",
        "            self.Entry3.delete(0, 'end')\n",
        "            num1 = int(self.Entry1.get())\n",
        "            num2 = int(self.Entry2.get())\n",
        "            result = (num1) / (num2)\n",
        "            self.Entry3.insert(END, str(result))\n",
        "        except Error:\n",
        "            result = \"Error: Division by Zero\"\n",
        "            self.Entry3.insert(END, str(result))\n",
        "\n",
        "window = Tk()\n",
        "MywWin = MyWindow(window)\n",
        "window.geometry(\"400x300+10+10\")\n",
        "window.title(\"MENCIDOR Calculator\")\n",
        "window.mainloop()"
      ],
      "metadata": {
        "id": "fdgXUjZXy-ZI"
      },
      "execution_count": null,
      "outputs": []
    }
  ],
  "metadata": {
    "colab": {
      "name": "Welcome To Colab",
      "toc_visible": true,
      "provenance": [],
      "include_colab_link": true
    },
    "kernelspec": {
      "display_name": "Python 3",
      "name": "python3"
    }
  },
  "nbformat": 4,
  "nbformat_minor": 0
}