{
  "cells": [
    {
      "cell_type": "markdown",
      "metadata": {
        "id": "view-in-github",
        "colab_type": "text"
      },
      "source": [
        "<a href=\"https://colab.research.google.com/github/RENVER-CPE/CPE009B-CPE21S1-OOP2/blob/main/EXERCISE%205.ipynb\" target=\"_parent\"><img src=\"https://colab.research.google.com/assets/colab-badge.svg\" alt=\"Open In Colab\"/></a>"
      ]
    },
    {
      "cell_type": "code",
      "source": [
        "#Polymorphism\n",
        "\n",
        "class Person:\n",
        "  def __init__(self, name, age):\n",
        "    self.name = name\n",
        "    self.age = age\n",
        "\n",
        "#inherits the attributes of a person\n",
        "class Student(Person):\n",
        "  def traits(self):\n",
        "    return f\"Singing, playing, studying\"\n",
        "\n",
        "#inherits the attributes of a person\n",
        "class Teacher(Person):\n",
        "  def traits(self):\n",
        "    return f\"Teaching, socializing\"\n",
        "\n",
        "student = Student(\"Renver\", 97)\n",
        "teacher = Teacher(\"Sir akaba\", 41)\n",
        "\n",
        "print(\"As a student, I do\", student.traits())\n",
        "print(\"As a teacher, I do\", teacher.traits())"
      ],
      "metadata": {
        "id": "yti_09wdSer_",
        "outputId": "55f0d578-36f9-44f1-cbf0-39cd2f573a08",
        "colab": {
          "base_uri": "https://localhost:8080/"
        }
      },
      "execution_count": 15,
      "outputs": [
        {
          "output_type": "stream",
          "name": "stdout",
          "text": [
            "As a student, I do Singing, playing, studying\n",
            "As a teacher, I do Teaching, socializing\n"
          ]
        }
      ]
    },
    {
      "cell_type": "code",
      "source": [
        "#Polymorphism\n",
        "\n",
        "class Animal:\n",
        "  def __init__(self, type, sound):\n",
        "    self.type = type\n",
        "    self.sound = sound\n",
        "\n",
        "class Snake(Animal):\n",
        "  def sounds(self):\n",
        "    return f\"Hess\"\n",
        "\n",
        "class Lion(Animal):\n",
        "  def sounds(self):\n",
        "    return f\"Rawr\"\n",
        "\n",
        "class Marites(Animal):\n",
        "  def sounds(self):\n",
        "    return f\"spread fake chismis\"\n",
        "\n",
        "snake = Snake(\"Reptile\", \"Hiss\")\n",
        "lion = Lion(\"Mammal\", \"Roar\")\n",
        "marites = Marites(\"Animal\", \"Chumismis\")\n",
        "\n",
        "print(\"Snakes\", snake.sounds(), \"and they are a\", snake.type)\n",
        "print(\"Lions\", lion.sounds(), \"and they are a\", snake.type)\n",
        "print(\"Marites'\", marites.sounds(), \"and they are a\", snake.type)"
      ],
      "metadata": {
        "id": "1UhaVkmoa4DT",
        "outputId": "c01f9326-5856-44e1-cebd-503444c34398",
        "colab": {
          "base_uri": "https://localhost:8080/"
        }
      },
      "execution_count": 31,
      "outputs": [
        {
          "output_type": "stream",
          "name": "stdout",
          "text": [
            "Snakes Hess and they are a Reptile\n",
            "Lions Rawr and they are a Reptile\n",
            "Marites' spread fake chismis and they are a Reptile\n"
          ]
        }
      ]
    }
  ],
  "metadata": {
    "colab": {
      "name": "Welcome To Colab",
      "toc_visible": true,
      "provenance": [],
      "include_colab_link": true
    },
    "kernelspec": {
      "display_name": "Python 3",
      "name": "python3"
    }
  },
  "nbformat": 4,
  "nbformat_minor": 0
}