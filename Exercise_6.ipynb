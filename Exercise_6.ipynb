{
  "nbformat": 4,
  "nbformat_minor": 0,
  "metadata": {
    "colab": {
      "provenance": [],
      "authorship_tag": "ABX9TyMfb5irZRmjAIoOKDwbnl1D",
      "include_colab_link": true
    },
    "kernelspec": {
      "name": "python3",
      "display_name": "Python 3"
    },
    "language_info": {
      "name": "python"
    }
  },
  "cells": [
    {
      "cell_type": "markdown",
      "metadata": {
        "id": "view-in-github",
        "colab_type": "text"
      },
      "source": [
        "<a href=\"https://colab.research.google.com/github/RENVER-CPE/CPE009B-CPE21S1-OOP2/blob/main/Exercise_6.ipynb\" target=\"_parent\"><img src=\"https://colab.research.google.com/assets/colab-badge.svg\" alt=\"Open In Colab\"/></a>"
      ]
    },
    {
      "cell_type": "code",
      "execution_count": null,
      "metadata": {
        "id": "dRKDN70b2peO"
      },
      "outputs": [],
      "source": [
        "from tkinter import *\n",
        "\n",
        "class MyWindow:\n",
        "    def __init__(self, window):\n",
        "        window.config(bg=\"#7b7b7b\")\n",
        "\n",
        "        #HEADING\n",
        "        self.lbl1 = Label(window, fg='#9dee67', bg='#7b7b7b', text='   CALCULATOR', font=(\"Courier New Bold\", 20))\n",
        "        self.lbl1.place(x=60, y=10)\n",
        "\n",
        "        #NUMBER 1\n",
        "        self.lbl2 = Label(window, fg='#9dee67', bg='#7b7b7b', text='Number 1:', font=(\"Courier New Bold\", 10))\n",
        "        self.lbl2.place(x=50, y=50)\n",
        "\n",
        "        self.Ent1 = Entry(window, bd=5)\n",
        "        self.Ent1.place(x=125, y=50)\n",
        "\n",
        "        #NUMBER 2\n",
        "        self.lbl3 = Label(window, fg='#9dee67', bg='#7b7b7b', text=\"Number 2:\", font=(\"Courier New Bold\", 10))\n",
        "        self.lbl3.place(x=50, y=100)\n",
        "\n",
        "        self.Ent2 = Entry(window, bd=5)\n",
        "        self.Ent2.place(x=125, y=100)\n",
        "\n",
        "        #OUTPUT\n",
        "        self.lbl4 = Label(window, fg='#9dee67', bg='#7b7b7b', text=\"Output:\", font=(\"Courier New Bold\", 10))\n",
        "        self.lbl4.place(x=50, y=150)\n",
        "\n",
        "        self.Ent3 = Entry(window, bd=5)\n",
        "        self.Ent3.place(x=125, y=150)\n",
        "\n",
        "        #BUTTONS\n",
        "        self.Btn1 = Button(window, fg=\"Red\", text=\"Add\", font=(\"Courier New Bold\", 8), command=self.add)\n",
        "        self.Btn1.place(x=60, y=200)\n",
        "        self.Btn2 = Button(window, fg=\"Red\", text=\"Subtract\", font=(\"Courier New Bold\", 8), command=self.sub)\n",
        "        self.Btn2.place(x=110, y=200)\n",
        "        self.Btn3 = Button(window, fg=\"Red\", text=\"Multiply\", font=(\"Courier New Bold\", 8), command=self.mul)\n",
        "        self.Btn3.place(x=195, y=200)\n",
        "        self.Btn4 = Button(window, fg=\"Red\", text=\"Divide\", font=(\"Courier New Bold\", 8), command=self.div)\n",
        "        self.Btn4.place(x=273, y=200)\n",
        "        self.Btn5 = Button(window, fg=\"Red\", text=\"Clear\", font=(\"Courier New Bold\", 8), command=self.clear)\n",
        "        self.Btn5.place(x=160, y=240)\n",
        "\n",
        "        #CALCULATOR FUNCTIONS\n",
        "    def add (self):\n",
        "        self.Ent3.delete(0, 'end')\n",
        "        num1 = int(self.Ent1.get())\n",
        "        num2 = int(self.Ent2.get())\n",
        "        result = num1 + num2\n",
        "        self.Ent3.insert(END, str(result))\n",
        "\n",
        "    def sub (self):\n",
        "        self.Ent3.delete(0, 'end')\n",
        "        num1 = int(self.Ent1.get())\n",
        "        num2 = int(self.Ent2.get())\n",
        "        result = num1 - num2\n",
        "        self.Ent3.insert(END, str(result))\n",
        "\n",
        "    def mul (self):\n",
        "        self.Ent3.delete(0, 'end')\n",
        "        num1 = int(self.Ent1.get())\n",
        "        num2 = int(self.Ent2.get())\n",
        "        result = num1 * num2\n",
        "        self.Ent3.insert(END, str(result))\n",
        "\n",
        "    def div (self):\n",
        "        self.Ent3.delete(0, 'end')\n",
        "        num1 = int(self.Ent1.get())\n",
        "        num2 = int(self.Ent2.get())\n",
        "        result = num1 / num2\n",
        "        self.Ent3.insert(END, str(result))\n",
        "\n",
        "    def clear (self):\n",
        "        self.Ent1.delete(0, 'end')\n",
        "        self.Ent2.delete(0, 'end')\n",
        "        self.Ent3.delete(0, 'end')\n",
        "\n",
        "\n",
        "window = Tk()\n",
        "mywindow = MyWindow(window)\n",
        "\n",
        "window.geometry(\"400x300+10+10\")\n",
        "window.title(\"MENCIDOR_CALCULATOR\")\n",
        "window.mainloop()\n"
      ]
    }
  ]
}