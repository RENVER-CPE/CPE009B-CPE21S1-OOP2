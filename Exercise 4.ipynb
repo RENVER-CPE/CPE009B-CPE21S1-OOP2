{
  "nbformat": 4,
  "nbformat_minor": 0,
  "metadata": {
    "colab": {
      "provenance": [],
      "authorship_tag": "ABX9TyML356lxzWqGqrpDv8pFX2v",
      "include_colab_link": true
    },
    "kernelspec": {
      "name": "python3",
      "display_name": "Python 3"
    },
    "language_info": {
      "name": "python"
    }
  },
  "cells": [
    {
      "cell_type": "markdown",
      "metadata": {
        "id": "view-in-github",
        "colab_type": "text"
      },
      "source": [
        "<a href=\"https://colab.research.google.com/github/RENVER-CPE/CPE009B-CPE21S1-OOP2/blob/main/Exercise%204.ipynb\" target=\"_parent\"><img src=\"https://colab.research.google.com/assets/colab-badge.svg\" alt=\"Open In Colab\"/></a>"
      ]
    },
    {
      "cell_type": "code",
      "execution_count": 2,
      "metadata": {
        "colab": {
          "base_uri": "https://localhost:8080/"
        },
        "id": "Puf4q-8YV3Gs",
        "outputId": "d4262769-5cc8-4d32-caa9-3c69e45e2105"
      },
      "outputs": [
        {
          "output_type": "stream",
          "name": "stdout",
          "text": [
            "Name: Renver, Average Grade: 87.67\n",
            "Name: Patrick, Average Grade: 80.00\n",
            "Name: Carlo, Average Grade: 92.00\n"
          ]
        }
      ],
      "source": [
        "class Person:\n",
        "    def __init__(self, name, prelim, midterm, final):\n",
        "        self.name = name\n",
        "        self.prelim = prelim\n",
        "        self.midterm = midterm\n",
        "        self.final = final\n",
        "\n",
        "    def grade(self):\n",
        "        return (self.prelim + self.midterm + self.final) / 3\n",
        "\n",
        "    def display(self):\n",
        "        print(f\"Name: {self.name}, Average Grade: {self.grade():.2f}\")\n",
        "\n",
        "\n",
        "def main():\n",
        "    student1 = Person(\"Renver\", 85, 90, 88)\n",
        "    student2 = Person(\"Patrick\", 78, 82, 80)\n",
        "    student3 = Person(\"Carlo\", 92, 89, 95)\n",
        "\n",
        "    student1.display()\n",
        "    student2.display()\n",
        "    student3.display()\n",
        "\n",
        "\n",
        "if __name__ == \"__main__\":\n",
        "    main()\n"
      ]
    },
    {
      "cell_type": "code",
      "source": [
        "class Person:\n",
        "    def __init__(self, name, pre, mid, fin, password):\n",
        "        self.name = name\n",
        "        self.pre = pre\n",
        "        self.mid = mid\n",
        "        self.fin = fin\n",
        "        self.password = password\n",
        "\n",
        "    def grade(self):\n",
        "        return (self.pre + self.mid + self.fin) / 3\n",
        "\n",
        "    def display(self):\n",
        "        print(f\"Name: {self.name}, Average Grade: {self.grade():.2f}\")\n",
        "\n",
        "    def display_grades(self):\n",
        "        print(f\"Name: {self.name}\")\n",
        "        print(f\"Pre Exam: {self.pre}\")\n",
        "        print(f\"Mid Exam: {self.mid}\")\n",
        "        print(f\"Final Exam: {self.fin}\")\n",
        "        print(f\"Average Grade: {self.grade():.2f}\")\n",
        "\n",
        "\n",
        "def main():\n",
        "    students = [\n",
        "        Person(\"Renver\", 85, 90, 88, \"Renver\"),\n",
        "        Person(\"Carlo\", 78, 82, 80, \"Carlo\"),\n",
        "        Person(\"Pat\", 92, 89, 95, \"Pat\")\n",
        "    ]\n",
        "\n",
        "    print(\"Average Grades:\")\n",
        "    for student in students:\n",
        "        student.display()\n",
        "\n",
        "    print(\"\\nAccessing individual grades:\")\n",
        "    user_input = input(\"Enter the name or password of the student to view their grades: \")\n",
        "\n",
        "    found = False\n",
        "    for student in students:\n",
        "        if user_input == student.name:\n",
        "            student.display_grades()\n",
        "            found = True\n",
        "            break\n",
        "        elif user_input == student.password:\n",
        "            student.display_grades()\n",
        "            found = True\n",
        "            break\n",
        "\n",
        "    if not found:\n",
        "        print(\"No student found with that name or password.\")\n",
        "\n",
        "\n",
        "if __name__ == \"__main__\":\n",
        "    main()\n"
      ],
      "metadata": {
        "colab": {
          "base_uri": "https://localhost:8080/",
          "height": 443
        },
        "id": "1U8kCvoEcIGv",
        "outputId": "72547711-2757-4d07-8e4e-3c2a9d1e6538"
      },
      "execution_count": 13,
      "outputs": [
        {
          "output_type": "stream",
          "name": "stdout",
          "text": [
            "Average Grades:\n",
            "Name: Renver, Average Grade: 87.67\n",
            "Name: Carlo, Average Grade: 80.00\n",
            "Name: Pat, Average Grade: 92.00\n",
            "\n",
            "Accessing individual grades:\n"
          ]
        },
        {
          "output_type": "error",
          "ename": "KeyboardInterrupt",
          "evalue": "Interrupted by user",
          "traceback": [
            "\u001b[0;31m---------------------------------------------------------------------------\u001b[0m",
            "\u001b[0;31mKeyboardInterrupt\u001b[0m                         Traceback (most recent call last)",
            "\u001b[0;32m<ipython-input-13-0f75111a06a4>\u001b[0m in \u001b[0;36m<cell line: 52>\u001b[0;34m()\u001b[0m\n\u001b[1;32m     51\u001b[0m \u001b[0;34m\u001b[0m\u001b[0m\n\u001b[1;32m     52\u001b[0m \u001b[0;32mif\u001b[0m \u001b[0m__name__\u001b[0m \u001b[0;34m==\u001b[0m \u001b[0;34m\"__main__\"\u001b[0m\u001b[0;34m:\u001b[0m\u001b[0;34m\u001b[0m\u001b[0;34m\u001b[0m\u001b[0m\n\u001b[0;32m---> 53\u001b[0;31m     \u001b[0mmain\u001b[0m\u001b[0;34m(\u001b[0m\u001b[0;34m)\u001b[0m\u001b[0;34m\u001b[0m\u001b[0;34m\u001b[0m\u001b[0m\n\u001b[0m",
            "\u001b[0;32m<ipython-input-13-0f75111a06a4>\u001b[0m in \u001b[0;36mmain\u001b[0;34m()\u001b[0m\n\u001b[1;32m     33\u001b[0m \u001b[0;34m\u001b[0m\u001b[0m\n\u001b[1;32m     34\u001b[0m     \u001b[0mprint\u001b[0m\u001b[0;34m(\u001b[0m\u001b[0;34m\"\\nAccessing individual grades:\"\u001b[0m\u001b[0;34m)\u001b[0m\u001b[0;34m\u001b[0m\u001b[0;34m\u001b[0m\u001b[0m\n\u001b[0;32m---> 35\u001b[0;31m     \u001b[0muser_input\u001b[0m \u001b[0;34m=\u001b[0m \u001b[0minput\u001b[0m\u001b[0;34m(\u001b[0m\u001b[0;34m\"Enter the name or password of the student to view their grades: \"\u001b[0m\u001b[0;34m)\u001b[0m\u001b[0;34m\u001b[0m\u001b[0;34m\u001b[0m\u001b[0m\n\u001b[0m\u001b[1;32m     36\u001b[0m \u001b[0;34m\u001b[0m\u001b[0m\n\u001b[1;32m     37\u001b[0m     \u001b[0mfound\u001b[0m \u001b[0;34m=\u001b[0m \u001b[0;32mFalse\u001b[0m\u001b[0;34m\u001b[0m\u001b[0;34m\u001b[0m\u001b[0m\n",
            "\u001b[0;32m/usr/local/lib/python3.10/dist-packages/ipykernel/kernelbase.py\u001b[0m in \u001b[0;36mraw_input\u001b[0;34m(self, prompt)\u001b[0m\n\u001b[1;32m    849\u001b[0m                 \u001b[0;34m\"raw_input was called, but this frontend does not support input requests.\"\u001b[0m\u001b[0;34m\u001b[0m\u001b[0;34m\u001b[0m\u001b[0m\n\u001b[1;32m    850\u001b[0m             )\n\u001b[0;32m--> 851\u001b[0;31m         return self._input_request(str(prompt),\n\u001b[0m\u001b[1;32m    852\u001b[0m             \u001b[0mself\u001b[0m\u001b[0;34m.\u001b[0m\u001b[0m_parent_ident\u001b[0m\u001b[0;34m,\u001b[0m\u001b[0;34m\u001b[0m\u001b[0;34m\u001b[0m\u001b[0m\n\u001b[1;32m    853\u001b[0m             \u001b[0mself\u001b[0m\u001b[0;34m.\u001b[0m\u001b[0m_parent_header\u001b[0m\u001b[0;34m,\u001b[0m\u001b[0;34m\u001b[0m\u001b[0;34m\u001b[0m\u001b[0m\n",
            "\u001b[0;32m/usr/local/lib/python3.10/dist-packages/ipykernel/kernelbase.py\u001b[0m in \u001b[0;36m_input_request\u001b[0;34m(self, prompt, ident, parent, password)\u001b[0m\n\u001b[1;32m    893\u001b[0m             \u001b[0;32mexcept\u001b[0m \u001b[0mKeyboardInterrupt\u001b[0m\u001b[0;34m:\u001b[0m\u001b[0;34m\u001b[0m\u001b[0;34m\u001b[0m\u001b[0m\n\u001b[1;32m    894\u001b[0m                 \u001b[0;31m# re-raise KeyboardInterrupt, to truncate traceback\u001b[0m\u001b[0;34m\u001b[0m\u001b[0;34m\u001b[0m\u001b[0m\n\u001b[0;32m--> 895\u001b[0;31m                 \u001b[0;32mraise\u001b[0m \u001b[0mKeyboardInterrupt\u001b[0m\u001b[0;34m(\u001b[0m\u001b[0;34m\"Interrupted by user\"\u001b[0m\u001b[0;34m)\u001b[0m \u001b[0;32mfrom\u001b[0m \u001b[0;32mNone\u001b[0m\u001b[0;34m\u001b[0m\u001b[0;34m\u001b[0m\u001b[0m\n\u001b[0m\u001b[1;32m    896\u001b[0m             \u001b[0;32mexcept\u001b[0m \u001b[0mException\u001b[0m \u001b[0;32mas\u001b[0m \u001b[0me\u001b[0m\u001b[0;34m:\u001b[0m\u001b[0;34m\u001b[0m\u001b[0;34m\u001b[0m\u001b[0m\n\u001b[1;32m    897\u001b[0m                 \u001b[0mself\u001b[0m\u001b[0;34m.\u001b[0m\u001b[0mlog\u001b[0m\u001b[0;34m.\u001b[0m\u001b[0mwarning\u001b[0m\u001b[0;34m(\u001b[0m\u001b[0;34m\"Invalid Message:\"\u001b[0m\u001b[0;34m,\u001b[0m \u001b[0mexc_info\u001b[0m\u001b[0;34m=\u001b[0m\u001b[0;32mTrue\u001b[0m\u001b[0;34m)\u001b[0m\u001b[0;34m\u001b[0m\u001b[0;34m\u001b[0m\u001b[0m\n",
            "\u001b[0;31mKeyboardInterrupt\u001b[0m: Interrupted by user"
          ]
        }
      ]
    },
    {
      "cell_type": "code",
      "source": [
        "class Person:\n",
        "    def __init__(self, name, pre, mid, fin, password):\n",
        "        self.name = name\n",
        "        self.pre = pre\n",
        "        self.mid = mid\n",
        "        self.fin = fin\n",
        "        self.password = password\n",
        "\n",
        "    def grade(self):\n",
        "        return (self.pre + self.mid + self.fin) / 3\n",
        "\n",
        "    def verify_password(self, password):\n",
        "        return password == self.password\n",
        "\n",
        "    def display_grades(self):\n",
        "        print(f\"Name: {self.name}\")\n",
        "        print(f\"Pre Exam: {self.pre}\")\n",
        "        print(f\"Mid Exam: {self.mid}\")\n",
        "        print(f\"Final Exam: {self.fin}\")\n",
        "        print(f\"Average Grade: {self.grade():.2f}\")\n",
        "\n",
        "\n",
        "def main():\n",
        "    students = [\n",
        "        Person(\"Renver\", 85, 90, 88, \"renver\"),\n",
        "        Person(\"Carlo\", 78, 82, 80, \"carlo\"),\n",
        "        Person(\"Pat\", 92, 89, 95, \"pat\")\n",
        "    ]\n",
        "\n",
        "    user_input = input(\"Input your name or password to view your grades: \")\n",
        "\n",
        "    found = False\n",
        "    for student in students:\n",
        "        if user_input == student.name:\n",
        "            password = input(f\"Enter password for {student.name} to view grades: \")\n",
        "            if student.verify_password(password):\n",
        "                student.display_grades()\n",
        "                found = True\n",
        "                break\n",
        "            else:\n",
        "                print(\"Incorrect password.\")\n",
        "                found = True\n",
        "                break\n",
        "        elif user_input == student.password:\n",
        "            for s in students:\n",
        "                if s.verify_password(user_input):\n",
        "                    s.display_grades()\n",
        "                    found = True\n",
        "                    break\n",
        "\n",
        "    if not found:\n",
        "        print(\"No student found with that name or password.\")\n",
        "\n",
        "\n",
        "if __name__ == \"__main__\":\n",
        "    main()\n"
      ],
      "metadata": {
        "colab": {
          "base_uri": "https://localhost:8080/"
        },
        "id": "ZcwNB0_iiqn_",
        "outputId": "11d8c8fb-7d73-44d6-91c3-8b53134f0c78"
      },
      "execution_count": 21,
      "outputs": [
        {
          "output_type": "stream",
          "name": "stdout",
          "text": [
            "Input your name or password to view your grades: pat\n",
            "Name: Pat\n",
            "Pre Exam: 92\n",
            "Mid Exam: 89\n",
            "Final Exam: 95\n",
            "Average Grade: 92.00\n"
          ]
        }
      ]
    }
  ]
}