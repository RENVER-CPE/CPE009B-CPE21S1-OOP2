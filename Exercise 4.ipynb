{
  "nbformat": 4,
  "nbformat_minor": 0,
  "metadata": {
    "colab": {
      "provenance": [],
      "authorship_tag": "ABX9TyM3sjr33H6/E0P3ml9Rm6BA",
      "include_colab_link": true
    },
    "kernelspec": {
      "name": "python3",
      "display_name": "Python 3"
    },
    "language_info": {
      "name": "python"
    }
  },
  "cells": [
    {
      "cell_type": "markdown",
      "metadata": {
        "id": "view-in-github",
        "colab_type": "text"
      },
      "source": [
        "<a href=\"https://colab.research.google.com/github/RENVER-CPE/CPE009B-CPE21S1-OOP2/blob/main/Exercise%204.ipynb\" target=\"_parent\"><img src=\"https://colab.research.google.com/assets/colab-badge.svg\" alt=\"Open In Colab\"/></a>"
      ]
    },
    {
      "cell_type": "code",
      "source": [
        "class Person:\n",
        "    def __init__(self, name, pre, mid, fin, password):\n",
        "        self.name = name\n",
        "        self.pre = pre\n",
        "        self.mid = mid\n",
        "        self.fin = fin\n",
        "        self.password = password\n",
        "\n",
        "    def grade(self):\n",
        "        return (self.pre + self.mid + self.fin) / 3\n",
        "\n",
        "    def verify_password(self, password):\n",
        "        return password == self.password\n",
        "\n",
        "    def display_grades(self):\n",
        "        print(f\"Name: {self.name}\")\n",
        "        print(f\"Pre Exam: {self.pre}\")\n",
        "        print(f\"Mid Exam: {self.mid}\")\n",
        "        print(f\"Final Exam: {self.fin}\")\n",
        "        print(f\"Average Grade: {self.grade():.2f}\")\n",
        "\n",
        "\n",
        "def main():\n",
        "    students = [\n",
        "        Person(\"Mencidor, Renver\", 85, 90, 88, \"renver\"),\n",
        "        Person(\"Vasquez, Carlo\", 78, 82, 80, \"carlo\"),\n",
        "        Person(\"Cruz, Patrick\", 92, 89, 95, \"pat\")\n",
        "    ]\n",
        "\n",
        "    user_input = input(\"Input your name or password to view your grades: \")\n",
        "\n",
        "    found = False\n",
        "    for student in students:\n",
        "        if user_input == student.name:\n",
        "            password = input(f\"Enter password for {student.name} to view grades: \")\n",
        "            if student.verify_password(password):\n",
        "                student.display_grades()\n",
        "                found = True\n",
        "                break\n",
        "            else:\n",
        "                print(\"Incorrect password.\")\n",
        "                found = True\n",
        "                break\n",
        "        elif user_input == student.password:\n",
        "            for s in students:\n",
        "                if s.verify_password(user_input):\n",
        "                    s.display_grades()\n",
        "                    found = True\n",
        "                    break\n",
        "\n",
        "    if not found:\n",
        "        print(\"No student found with that name or password.\")\n",
        "\n",
        "\n",
        "if __name__ == \"__main__\":\n",
        "    main()\n"
      ],
      "metadata": {
        "colab": {
          "base_uri": "https://localhost:8080/"
        },
        "id": "ZcwNB0_iiqn_",
        "outputId": "21cae6da-caa3-4cee-e127-42d93975679b"
      },
      "execution_count": 22,
      "outputs": [
        {
          "output_type": "stream",
          "name": "stdout",
          "text": [
            "Input your name or password to view your grades: renver\n",
            "Name: Mencidor, Renver\n",
            "Pre Exam: 85\n",
            "Mid Exam: 90\n",
            "Final Exam: 88\n",
            "Average Grade: 87.67\n"
          ]
        }
      ]
    }
  ]
}